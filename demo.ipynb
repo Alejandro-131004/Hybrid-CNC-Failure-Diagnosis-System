{
 "cells": [
  {
   "cell_type": "markdown",
   "id": "b63b423a",
   "metadata": {},
   "source": [
    "This will serve for the demo presentation."
   ]
  },
  {
   "cell_type": "markdown",
   "id": "3e6bf218",
   "metadata": {},
   "source": []
  }
 ],
 "metadata": {
  "language_info": {
   "name": "python"
  }
 },
 "nbformat": 4,
 "nbformat_minor": 5
}
